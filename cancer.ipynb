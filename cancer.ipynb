{
 "cells": [
  {
   "cell_type": "code",
   "execution_count": 1,
   "id": "14e181dc",
   "metadata": {},
   "outputs": [],
   "source": [
    "import pandas as pd\n",
    "\n",
    "expr = pd.read_csv(\"E-MTAB-3610_matrix.csv\", sep=\",\", index_col=0)\n",
    "ic50 = pd.read_csv(\"gdsc1_ic50_cleaned.csv\", sep=\",\", index_col=0)\n",
    "\n"
   ]
  },
  {
   "cell_type": "code",
   "execution_count": 2,
   "id": "b8bada15",
   "metadata": {},
   "outputs": [],
   "source": [
    "expr = expr.transpose()\n",
    "expr.reset_index(inplace=True)\n",
    "expr.rename(columns={\"index\": \"CELL_LINE_NAME\"}, inplace=True)\n"
   ]
  },
  {
   "cell_type": "code",
   "execution_count": 4,
   "id": "bed4de84",
   "metadata": {},
   "outputs": [],
   "source": [
    "expr[\"CELL_LINE_NAME\"] = expr[\"CELL_LINE_NAME\"].str.upper().str.strip()\n",
    "ic50[\"CELL_LINE_NAME\"] = ic50[\"CELL_LINE_NAME\"].str.upper().str.strip()\n"
   ]
  },
  {
   "cell_type": "code",
   "execution_count": null,
   "id": "c6c7fc0b",
   "metadata": {},
   "outputs": [
    {
     "name": "stdout",
     "output_type": "stream",
     "text": [
      "(811, 11)\n"
     ]
    }
   ],
   "source": [
    "cancer_genes = [\"TP53\", \"BRCA1\", \"EGFR\", \"KRAS\", \"BRAF\", \"PIK3CA\", \"MYC\", \"CDKN2A\", \"RB1\", \"PTEN\"]\n",
    "expr_reduced = expr[[\"CELL_LINE_NAME\"] + cancer_genes]\n"
   ]
  },
  {
   "cell_type": "code",
   "execution_count": 7,
   "id": "9bc948a3",
   "metadata": {},
   "outputs": [],
   "source": [
    "data = pd.merge(ic50, expr_reduced, on=\"CELL_LINE_NAME\")\n"
   ]
  }
 ],
 "metadata": {
  "kernelspec": {
   "display_name": ".venv",
   "language": "python",
   "name": "python3"
  },
  "language_info": {
   "codemirror_mode": {
    "name": "ipython",
    "version": 3
   },
   "file_extension": ".py",
   "mimetype": "text/x-python",
   "name": "python",
   "nbconvert_exporter": "python",
   "pygments_lexer": "ipython3",
   "version": "3.12.1"
  }
 },
 "nbformat": 4,
 "nbformat_minor": 5
}

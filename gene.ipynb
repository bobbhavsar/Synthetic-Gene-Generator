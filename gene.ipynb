{
 "cells": [
  {
   "cell_type": "code",
   "execution_count": 7,
   "id": "c25ea5e1",
   "metadata": {},
   "outputs": [],
   "source": [
    "import torch\n",
    "import torch.nn as nn\n",
    "import torch.optim as optim\n",
    "from torch.utils.data import Dataset, DataLoader\n",
    "import pandas as pd\n",
    "import random\n",
    "import numpy as np"
   ]
  },
  {
   "cell_type": "code",
   "execution_count": 8,
   "id": "c235997c",
   "metadata": {},
   "outputs": [],
   "source": [
    "#Tanish don't jump me. It is sample data. We need to replace with actual datasets\n",
    "data = {\n",
    "    'original': ['ATGGCC', 'ATGCGT', 'ATGAAA'],\n",
    "    'optimized': ['ATGGCAGC', 'ATGCAG', 'ATGAAAGC']\n",
    "}\n",
    "df = pd.DataFrame(data)"
   ]
  },
  {
   "cell_type": "code",
   "execution_count": 9,
   "id": "75d8403b",
   "metadata": {},
   "outputs": [],
   "source": [
    "#Tokenization? idk ts is lowkai hard\n",
    "def codonize(seq):\n",
    "    return [seq[i:i+3] for i in range(0, len(seq), 3) if len(seq[i:i+3]) == 3]\n",
    "#define the codons???\n",
    "all_codons = set()\n",
    "for _, row in df.iterrows():\n",
    "    all_codons.update(codonize(row['original']))\n",
    "    all_codons.update(codonize(row['optimized']))\n",
    "\n",
    "codon2idx = {codon: idx+4 for idx, codon in enumerate(sorted(all_codons))}\n",
    "codon2idx['<pad>'] = 0\n",
    "codon2idx['<sos>'] = 1\n",
    "codon2idx['<eos>'] = 2\n",
    "codon2idx['<unk>'] = 3\n",
    "idx2codon = {idx: codon for codon, idx in codon2idx.items()}\n",
    "vocab_size = len(codon2idx)\n",
    "\n",
    "#encoder, decoder stuff\n",
    "def encode(seq):\n",
    "    return [codon2idx.get(c, codon2idx['<unk>']) for c in codonize(seq)]\n",
    "\n",
    "def decode(indices):\n",
    "    return ''.join([idx2codon[i] for i in indices if i not in (0, 1, 2)])\n"
   ]
  },
  {
   "cell_type": "code",
   "execution_count": 10,
   "id": "b6c9467b",
   "metadata": {},
   "outputs": [],
   "source": [
    "class GeneDataset(Dataset):\n",
    "    def __init__(self, df):\n",
    "        self.pairs = []\n",
    "        for _, row in df.iterrows():\n",
    "            src = [codon2idx['<sos>']] + encode(row['original']) + [codon2idx['<eos>']]\n",
    "            trg = [codon2idx['<sos>']] + encode(row['optimized'])\n",
    "            self.pairs.append((src, trg))\n",
    "\n",
    "    def __len__(self):\n",
    "        return len(self.pairs)\n",
    "    def __getitem__(self, idx):\n",
    "        return self.pairs[idx]\n",
    "    \n",
    "def collate_fn(batch):\n",
    "    src_batch, trg_batch = zip(*batch)\n",
    "    max_src = max(len(s) for s in src_batch)\n",
    "    max_trg = max(len(t) for t in trg_batch)\n",
    "    src_padded = [s + [codon2idx['<pad>']] * (max_src - len(s)) for s in src_batch]\n",
    "    trg_padded = [t + [codon2idx['<pad>']] * (max_trg - len(t)) for t in trg_batch]\n",
    "    return torch.tensor(src_padded), torch.tensor(trg_padded)\n",
    "\n",
    "dataset = GeneDataset(df)\n",
    "dataloader = DataLoader(dataset, batch_size=2, shuffle=True, collate_fn=collate_fn)\n"
   ]
  }
 ],
 "metadata": {
  "kernelspec": {
   "display_name": ".venv",
   "language": "python",
   "name": "python3"
  },
  "language_info": {
   "codemirror_mode": {
    "name": "ipython",
    "version": 3
   },
   "file_extension": ".py",
   "mimetype": "text/x-python",
   "name": "python",
   "nbconvert_exporter": "python",
   "pygments_lexer": "ipython3",
   "version": "3.12.1"
  }
 },
 "nbformat": 4,
 "nbformat_minor": 5
}
